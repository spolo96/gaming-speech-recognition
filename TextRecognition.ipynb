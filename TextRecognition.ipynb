{
 "cells": [
  {
   "cell_type": "markdown",
   "id": "ba9ad41e",
   "metadata": {},
   "source": [
    "# Text Recognition from Gaming Clips"
   ]
  },
  {
   "cell_type": "code",
   "execution_count": null,
   "id": "4f593f76",
   "metadata": {},
   "outputs": [],
   "source": []
  },
  {
   "cell_type": "code",
   "execution_count": null,
   "id": "8bdc6be0",
   "metadata": {},
   "outputs": [],
   "source": []
  },
  {
   "cell_type": "markdown",
   "id": "57df04fc",
   "metadata": {},
   "source": [
    "# References\n",
    "\n",
    "1. [How to Extract Text from Images with Python](https://towardsdatascience.com/how-to-extract-text-from-images-with-python-db9b87fe432b)"
   ]
  }
 ],
 "metadata": {
  "kernelspec": {
   "display_name": "Python 3 (ipykernel)",
   "language": "python",
   "name": "python3"
  },
  "language_info": {
   "codemirror_mode": {
    "name": "ipython",
    "version": 3
   },
   "file_extension": ".py",
   "mimetype": "text/x-python",
   "name": "python",
   "nbconvert_exporter": "python",
   "pygments_lexer": "ipython3",
   "version": "3.9.0"
  }
 },
 "nbformat": 4,
 "nbformat_minor": 5
}
