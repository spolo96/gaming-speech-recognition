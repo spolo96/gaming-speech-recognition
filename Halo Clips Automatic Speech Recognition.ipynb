{
 "cells": [
  {
   "cell_type": "markdown",
   "id": "08e2230b",
   "metadata": {},
   "source": [
    "# Speech Recognition on Gaming Clips"
   ]
  },
  {
   "cell_type": "code",
   "execution_count": 63,
   "id": "a7f30f96",
   "metadata": {},
   "outputs": [],
   "source": [
    "from moviepy.editor import *\n",
    "import speech_recognition as sr"
   ]
  },
  {
   "cell_type": "code",
   "execution_count": 1,
   "id": "b64d4726",
   "metadata": {},
   "outputs": [
    {
     "name": "stdout",
     "output_type": "stream",
     "text": [
      " Volume in drive C has no label.\n",
      " Volume Serial Number is A638-DECC\n",
      "\n",
      " Directory of C:\\Users\\User\\Documents\\Python_Scripts\\SpeechRecognition\\HaloClips\\videos\n",
      "\n",
      "07/01/2022  08:57 p.ÿm.    <DIR>          .\n",
      "07/01/2022  08:57 p.ÿm.    <DIR>          ..\n",
      "24/12/2021  12:03 a.ÿm.        67.093.812 double-doublekill.mp4\n",
      "               1 File(s)     67.093.812 bytes\n",
      "               2 Dir(s)  59.292.385.280 bytes free\n"
     ]
    }
   ],
   "source": [
    "!dir videos"
   ]
  },
  {
   "cell_type": "code",
   "execution_count": 65,
   "id": "54bcdc11",
   "metadata": {},
   "outputs": [],
   "source": [
    "videoclip = VideoFileClip(\"videos/double-doublekill.mp4\")\n",
    "audioclip = videoclip.audio"
   ]
  },
  {
   "cell_type": "code",
   "execution_count": 66,
   "id": "0190b51c",
   "metadata": {},
   "outputs": [
    {
     "name": "stderr",
     "output_type": "stream",
     "text": [
      "chunk:  85%|███████████████████████████████████████████████████▊         | 204/240 [00:00<00:00, 1906.53it/s, now=None]"
     ]
    },
    {
     "name": "stdout",
     "output_type": "stream",
     "text": [
      "MoviePy - Writing audio in test2.wav\n"
     ]
    },
    {
     "name": "stderr",
     "output_type": "stream",
     "text": [
      "\r",
      "                                                                                                                       "
     ]
    },
    {
     "name": "stdout",
     "output_type": "stream",
     "text": [
      "MoviePy - Done.\n"
     ]
    },
    {
     "name": "stderr",
     "output_type": "stream",
     "text": [
      "\r"
     ]
    }
   ],
   "source": [
    "audioclip.write_audiofile(\"test2.wav\")"
   ]
  },
  {
   "cell_type": "code",
   "execution_count": 71,
   "id": "881be167",
   "metadata": {},
   "outputs": [],
   "source": [
    "filename = \"test2.wav\""
   ]
  },
  {
   "cell_type": "code",
   "execution_count": 73,
   "id": "ea993bbe",
   "metadata": {},
   "outputs": [
    {
     "name": "stdout",
     "output_type": "stream",
     "text": [
      "Converting audio transcripts into text ...\n",
      "chill\n",
      "Wall time: 1.4 s\n"
     ]
    }
   ],
   "source": [
    "%%time\n",
    "#import library\n",
    "import speech_recognition as sr\n",
    "\n",
    "# Initialize recognizer class (for recognizing the speech)\n",
    "r = sr.Recognizer()\n",
    "\n",
    "# Reading Audio file as source\n",
    "# listening the audio file and store in audio_text variable\n",
    "\n",
    "with sr.AudioFile(filename) as source:\n",
    "    \n",
    "    audio_text = r.listen(source)\n",
    "    \n",
    "# recoginize_() method will throw a request error if the API is unreachable, hence using exception handling\n",
    "    try:\n",
    "        \n",
    "        # using google speech recognition\n",
    "        text = r.recognize_google(audio_text)\n",
    "        print('Converting audio transcripts into text ...')\n",
    "        print(text)\n",
    "     \n",
    "    except:\n",
    "         print('Sorry.. run again...')"
   ]
  },
  {
   "cell_type": "markdown",
   "id": "fdb5d646",
   "metadata": {},
   "source": [
    "## Testing Microphone (Not Used for the Project)"
   ]
  },
  {
   "cell_type": "code",
   "execution_count": 78,
   "id": "692c776d",
   "metadata": {},
   "outputs": [
    {
     "name": "stdout",
     "output_type": "stream",
     "text": [
      "Talk\n",
      "Time over, thanks\n",
      "Text: hello I'm from Google\n"
     ]
    }
   ],
   "source": [
    "#import library\n",
    "\n",
    "import speech_recognition as sr\n",
    "\n",
    "# Initialize recognizer class (for recognizing the speech)\n",
    "\n",
    "r = sr.Recognizer()\n",
    "\n",
    "# Reading Microphone as source\n",
    "# listening the speech and store in audio_text variable\n",
    "\n",
    "with sr.Microphone() as source:\n",
    "    print(\"Talk\")\n",
    "    audio_text = r.listen(source)\n",
    "    print(\"Time over, thanks\")\n",
    "# recoginize_() method will throw a request error if the API is unreachable, hence using exception handling\n",
    "    \n",
    "    try:\n",
    "        # using google speech recognition\n",
    "        print(\"Text: \"+r.recognize_google(audio_text))\n",
    "    except:\n",
    "         print(\"Sorry, I did not get that\")"
   ]
  },
  {
   "cell_type": "markdown",
   "id": "5db10a3f",
   "metadata": {},
   "source": [
    "# References\n",
    "\n",
    "1. [Easy Speech-to-Text with Python](https://towardsdatascience.com/easy-speech-to-text-with-python-3df0d973b426)"
   ]
  }
 ],
 "metadata": {
  "kernelspec": {
   "display_name": "Python 3 (ipykernel)",
   "language": "python",
   "name": "python3"
  },
  "language_info": {
   "codemirror_mode": {
    "name": "ipython",
    "version": 3
   },
   "file_extension": ".py",
   "mimetype": "text/x-python",
   "name": "python",
   "nbconvert_exporter": "python",
   "pygments_lexer": "ipython3",
   "version": "3.9.0"
  }
 },
 "nbformat": 4,
 "nbformat_minor": 5
}
